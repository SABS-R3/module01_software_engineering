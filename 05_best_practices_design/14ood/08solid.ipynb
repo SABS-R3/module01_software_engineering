{
 "cells": [
  {
   "cell_type": "markdown",
   "metadata": {
    "slideshow": {
     "slide_type": "slide"
    }
   },
   "source": [
    "# SOLID\n",
    "\n",
    "Five object-oriented design principles, enumerated (though not all invented) by Robert [\"Uncle Bob\"](http://blog.cleancoder.com/) Martin."
   ]
  },
  {
   "cell_type": "markdown",
   "metadata": {
    "slideshow": {
     "slide_type": "slide"
    }
   },
   "source": [
    "## Single Responsibility Principle\n",
    "\n",
    "A class should have one - and only one - reason to change.\n",
    "\n",
    "This is more specific than saying \"a class should only do one thing\". \"Visualise a fluid dynamics simulation\" is one thing that a class could do, but if you would need to edit that class because the simulation changes _or_ because you change your graphics library, then it is not a single responsibility."
   ]
  },
  {
   "cell_type": "markdown",
   "metadata": {
    "slideshow": {
     "slide_type": "slide"
    }
   },
   "source": [
    "## Open-Closed Principle\n",
    "\n",
    "A class should be open to extension but closed to modification.\n",
    "\n",
    "This wording, originally by Bertrand Meyer in [Object-Oriented Software Construction](https://www.eiffel.org/doc/eiffel/Object-Oriented_Software_Construction%2C_2nd_Edition) ([Bodleian](http://solo.bodleian.ox.ac.uk/primo-explore/fulldisplay?docid=oxfaleph013348319&context=L&vid=SOLO&search_scope=LSCOP_ALL&isFrbr=true&tab=local&lang=en_US)), is quite difficult to parse. Let's take each part in turn.\n",
    "\n",
    "\"Open to extension\" means that a user of a class should be able to add to its behaviour or apply it to new use cases. Meyer intended this to be done through inheritance, but delegation (forwarding methods from one object to another) is more popular these days.\n",
    "\n",
    "\"Closed to modification\" means that a user of a class shouldn't need to change its behaviour. In other words, customisation is _only_ done by extension."
   ]
  },
  {
   "cell_type": "markdown",
   "metadata": {
    "slideshow": {
     "slide_type": "slide"
    }
   },
   "source": [
    "## Liskov Substitution Principle\n",
    "\n",
    "A type S is a subtype of another type T iff a program that uses an instance of T behaves identically when supplied an instance of S.\n",
    "\n",
    "Described in detail by Barbara Liskov and Jeanette Wing in [A behavioural notion of subtyping](https://dl.acm.org/citation.cfm?doid=197320.197383). The application of this principle to object-oriented design relates to subclasses: a subclass should present the same behaviour as its parent when used as an instance of the parent class."
   ]
  },
  {
   "cell_type": "markdown",
   "metadata": {
    "slideshow": {
     "slide_type": "slide"
    }
   },
   "source": [
    "## Interface Segregation Principle\n",
    "\n",
    "A client of an object should not depend on methods that it doesn't use.\n",
    "\n",
    "This principle isn't directly relevant to Python, because Python doesn't make you write type annotations anywhere so a client can _only_ depend on methods it uses."
   ]
  },
  {
   "cell_type": "markdown",
   "metadata": {
    "slideshow": {
     "slide_type": "slide"
    }
   },
   "source": [
    "## Dependency Inversion Principle\n",
    "\n",
    "1. High-level modules should not depend on low-level modules. Both should depend on abstractions.\n",
    "2. Abstractions should not depend on details. Details should depend on abstractions.\n",
    "\n",
    "Again, these ideas are not too relevant to Python, which doesn't have a distinction between an abstraction (in object-oriented terms, an interface or protocol) and details (a class). The meaning of this principle is to isolate units by making them refer to abstract types rather than specific implementations. It's useful in testing, because you can introduce Mock Objects or other substitute dependencies.\n",
    "\n",
    "One place to consider the Dependency Inversion Principle in Python is when one class uses another class's static methods, or initialises objects from another class. Rather than naming the class explicitly at the place where you use it, make the class a property that you can change when needed."
   ]
  }
 ],
 "metadata": {
  "celltoolbar": "Slideshow",
  "kernelspec": {
   "display_name": "Python 3",
   "language": "python",
   "name": "python3"
  },
  "language_info": {
   "codemirror_mode": {
    "name": "ipython",
    "version": 3
   },
   "file_extension": ".py",
   "mimetype": "text/x-python",
   "name": "python",
   "nbconvert_exporter": "python",
   "pygments_lexer": "ipython3",
   "version": "3.7.3"
  }
 },
 "nbformat": 4,
 "nbformat_minor": 2
}
