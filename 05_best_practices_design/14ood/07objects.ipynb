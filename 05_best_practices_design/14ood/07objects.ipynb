{
 "cells": [
  {
   "cell_type": "markdown",
   "metadata": {
    "slideshow": {
     "slide_type": "slide"
    }
   },
   "source": [
    "## Class design"
   ]
  },
  {
   "cell_type": "markdown",
   "metadata": {
    "slideshow": {
     "slide_type": "slide"
    }
   },
   "source": [
    "\n",
    "The concepts we have introduced are common between different object oriented languages.\n",
    "Thus, when we design our program using these concepts, we can think at an architectural level,\n",
    "independent of language syntax.\n",
    "\n",
    "In Python:\n"
   ]
  },
  {
   "cell_type": "code",
   "execution_count": 1,
   "metadata": {
    "slideshow": {
     "slide_type": "fragment"
    }
   },
   "outputs": [],
   "source": [
    "class Particle:\n",
    "    def __init__(self, position, velocity):\n",
    "        self.position = position\n",
    "        self.velocity = velocity\n",
    "    def move(self, delta_t):\n",
    "        self.position += self.velocity * delta_t"
   ]
  },
  {
   "cell_type": "markdown",
   "metadata": {
    "slideshow": {
     "slide_type": "slide"
    }
   },
   "source": [
    "In C++:\n",
    "\n",
    "``` cpp\n",
    "class Particle {\n",
    "    std::vector<double> position;\n",
    "    std::vector<double> velocity;\n",
    "    Particle(std::vector<double> position, std::vector<double> velocity);\n",
    "    void move(double delta_t);\n",
    "}\n",
    "```"
   ]
  },
  {
   "cell_type": "markdown",
   "metadata": {
    "slideshow": {
     "slide_type": "slide"
    }
   },
   "source": [
    "In Fortran:\n",
    "\n",
    "``` fortran\n",
    "type particle\n",
    "    real :: position\n",
    "    real :: velocity\n",
    "  contains\n",
    "    procedure :: init\n",
    "    procedure :: move\n",
    "end type particle\n",
    "```"
   ]
  },
  {
   "cell_type": "markdown",
   "metadata": {
    "slideshow": {
     "slide_type": "slide"
    }
   },
   "source": [
    "### UML"
   ]
  },
  {
   "cell_type": "markdown",
   "metadata": {
    "slideshow": {
     "slide_type": "fragment"
    }
   },
   "source": [
    "\n",
    "UML is a conventional diagrammatic notation used to describe \"class structures\" and other higher level\n",
    "aspects of software design.\n",
    "\n",
    "Computer scientists get worked up about formal correctness of UML diagrams and learning the conventions precisely.\n",
    "Working programmers can still benefit from using UML to describe their designs.\n"
   ]
  },
  {
   "cell_type": "markdown",
   "metadata": {
    "slideshow": {
     "slide_type": "skip"
    }
   },
   "source": [
    "### YUML"
   ]
  },
  {
   "cell_type": "markdown",
   "metadata": {
    "slideshow": {
     "slide_type": "skip"
    }
   },
   "source": [
    "We can see a YUML model for a Particle class with `position` and `velocity` data and a `move()` method using\n",
    "the [YUML](http://yuml.me/) online UML drawing tool ([example](http://yuml.me/diagram/boring/class/[Particle|position;velocity|move%28%29])).\n",
    "\n",
    "```\n",
    "    http://yuml.me/diagram/boring/class/[Particle|position;velocity|move%28%29]\n",
    "```"
   ]
  },
  {
   "cell_type": "markdown",
   "metadata": {
    "slideshow": {
     "slide_type": "skip"
    }
   },
   "source": [
    "Here's how we can use Python code to get an image back from YUML:"
   ]
  },
  {
   "cell_type": "code",
   "execution_count": 2,
   "metadata": {
    "collapsed": true,
    "slideshow": {
     "slide_type": "skip"
    }
   },
   "outputs": [],
   "source": [
    "import requests\n",
    "from IPython.display import Image\n",
    "\n",
    "def yuml(model):\n",
    "    result = requests.get(\"http://yuml.me/diagram/boring/class/\" + model)\n",
    "    return Image(result.content)"
   ]
  },
  {
   "cell_type": "code",
   "execution_count": 3,
   "metadata": {
    "slideshow": {
     "slide_type": "skip"
    }
   },
   "outputs": [
    {
     "data": {
      "image/png": "[encoded data removed]",
      "text/plain": [
       "<IPython.core.display.Image object>"
      ]
     },
     "execution_count": 3,
     "metadata": {},
     "output_type": "execute_result"
    }
   ],
   "source": [
    "yuml(\"[Particle|position;velocity|move()]\")"
   ]
  },
  {
   "cell_type": "markdown",
   "metadata": {
    "slideshow": {
     "slide_type": "skip"
    }
   },
   "source": [
    "The representation of the `Particle` class defined above in UML is done with a box with three sections. The name of the class goes on the top, then the name of the member variables in the middle, and the name of the methods on the bottom. We will see later why this is useful."
   ]
  },
  {
   "cell_type": "markdown",
   "metadata": {
    "slideshow": {
     "slide_type": "slide"
    }
   },
   "source": [
    "### Information Hiding"
   ]
  },
  {
   "cell_type": "markdown",
   "metadata": {
    "slideshow": {
     "slide_type": "fragment"
    }
   },
   "source": [
    "\n",
    "Sometimes, our design for a program would be broken if users start messing around with variables we don't want them to change.\n",
    "\n",
    "Robust class design requires consideration of which subroutines are intended for users to use, and which are internal.\n",
    "Languages provide features to implement this: access control. \n",
    "\n",
    "In python, we use leading underscores to control whether member variables and methods can be accessed from outside the class:\n",
    " - single leading underscore (`_`) is used to document it's private but people could use it if wanted (thought they shouldn't);\n",
    " - double leading underscore (`__`) raises errors if called.\n",
    "\n",
    "\n"
   ]
  },
  {
   "cell_type": "code",
   "execution_count": 4,
   "metadata": {
    "collapsed": true,
    "slideshow": {
     "slide_type": "slide"
    }
   },
   "outputs": [],
   "source": [
    "class MyClass:\n",
    "    def __init__(self):\n",
    "        self.__private_data = 0\n",
    "        self._private_data = 0\n",
    "        self.public_data = 0\n",
    "    \n",
    "    def __private_method(self): pass\n",
    "    \n",
    "    def _private_method(self): pass\n",
    "    \n",
    "    def public_method(self): pass\n",
    "    \n",
    "    def called_inside(self):\n",
    "        self.__private_method()\n",
    "        self._private_method()\n",
    "        self.__private_data = 1\n",
    "        self._private_data = 1\n",
    "        \n",
    "\n",
    "MyClass().called_inside()"
   ]
  },
  {
   "cell_type": "code",
   "execution_count": 5,
   "metadata": {
    "collapsed": true,
    "slideshow": {
     "slide_type": "slide"
    }
   },
   "outputs": [],
   "source": [
    "MyClass()._private_method() # Works, but forbidden by convention"
   ]
  },
  {
   "cell_type": "code",
   "execution_count": 6,
   "metadata": {
    "slideshow": {
     "slide_type": "fragment"
    }
   },
   "outputs": [
    {
     "name": "stdout",
     "output_type": "stream",
     "text": [
      "0\n"
     ]
    }
   ],
   "source": [
    "MyClass().public_method() # OK\n",
    "\n",
    "print(MyClass()._private_data)"
   ]
  },
  {
   "cell_type": "code",
   "execution_count": 7,
   "metadata": {
    "slideshow": {
     "slide_type": "fragment"
    }
   },
   "outputs": [
    {
     "name": "stdout",
     "output_type": "stream",
     "text": [
      "0\n"
     ]
    }
   ],
   "source": [
    "print(MyClass().public_data)"
   ]
  },
  {
   "cell_type": "code",
   "execution_count": 8,
   "metadata": {
    "slideshow": {
     "slide_type": "fragment"
    }
   },
   "outputs": [
    {
     "ename": "AttributeError",
     "evalue": "'MyClass' object has no attribute '__private_method'",
     "output_type": "error",
     "traceback": [
      "\u001b[0;31m---------------------------------------------------------------------------\u001b[0m",
      "\u001b[0;31mAttributeError\u001b[0m                            Traceback (most recent call last)",
      "\u001b[0;32m<ipython-input-8-f273bcb10b88>\u001b[0m in \u001b[0;36m<module>\u001b[0;34m()\u001b[0m\n\u001b[0;32m----> 1\u001b[0;31m \u001b[0mMyClass\u001b[0m\u001b[0;34m(\u001b[0m\u001b[0;34m)\u001b[0m\u001b[0;34m.\u001b[0m\u001b[0m__private_method\u001b[0m\u001b[0;34m(\u001b[0m\u001b[0;34m)\u001b[0m \u001b[0;31m# Generates error\u001b[0m\u001b[0;34m\u001b[0m\u001b[0m\n\u001b[0m",
      "\u001b[0;31mAttributeError\u001b[0m: 'MyClass' object has no attribute '__private_method'"
     ]
    }
   ],
   "source": [
    "MyClass().__private_method() # Generates error"
   ]
  },
  {
   "cell_type": "code",
   "execution_count": 9,
   "metadata": {
    "slideshow": {
     "slide_type": "fragment"
    }
   },
   "outputs": [
    {
     "ename": "AttributeError",
     "evalue": "'MyClass' object has no attribute '__private_data'",
     "output_type": "error",
     "traceback": [
      "\u001b[0;31m---------------------------------------------------------------------------\u001b[0m",
      "\u001b[0;31mAttributeError\u001b[0m                            Traceback (most recent call last)",
      "\u001b[0;32m<ipython-input-9-82626216770b>\u001b[0m in \u001b[0;36m<module>\u001b[0;34m()\u001b[0m\n\u001b[0;32m----> 1\u001b[0;31m \u001b[0mprint\u001b[0m\u001b[0;34m(\u001b[0m\u001b[0mMyClass\u001b[0m\u001b[0;34m(\u001b[0m\u001b[0;34m)\u001b[0m\u001b[0;34m.\u001b[0m\u001b[0m__private_data\u001b[0m\u001b[0;34m)\u001b[0m \u001b[0;31m# Generates error\u001b[0m\u001b[0;34m\u001b[0m\u001b[0m\n\u001b[0m",
      "\u001b[0;31mAttributeError\u001b[0m: 'MyClass' object has no attribute '__private_data'"
     ]
    }
   ],
   "source": [
    "print(MyClass().__private_data) # Generates error"
   ]
  },
  {
   "cell_type": "markdown",
   "metadata": {
    "slideshow": {
     "slide_type": "slide"
    }
   },
   "source": [
    "### Property accessors"
   ]
  },
  {
   "cell_type": "markdown",
   "metadata": {
    "slideshow": {
     "slide_type": "fragment"
    }
   },
   "source": [
    "\n",
    "Python provides a mechanism to make functions appear to be variables. This can be used if you want to\n",
    "change the way a class is implemented without changing the interface:\n",
    "\n",
    "\n"
   ]
  },
  {
   "cell_type": "code",
   "execution_count": 10,
   "metadata": {
    "slideshow": {
     "slide_type": "fragment"
    }
   },
   "outputs": [],
   "source": [
    "class Person:\n",
    "    def __init__(self):\n",
    "        self.name = \"Graham Chapman\"\n",
    "\n",
    "assert(Person().name == \"Graham Chapman\")"
   ]
  },
  {
   "cell_type": "markdown",
   "metadata": {
    "slideshow": {
     "slide_type": "slide"
    }
   },
   "source": [
    "\n",
    "\n",
    "\n",
    "becomes:\n",
    "\n",
    "\n"
   ]
  },
  {
   "cell_type": "code",
   "execution_count": 1,
   "metadata": {
    "slideshow": {
     "slide_type": "fragment"
    }
   },
   "outputs": [],
   "source": [
    "class Person(object):\n",
    "    def __init__(self):\n",
    "        self._first = \"Graham\"\n",
    "        self._second = \"Chapman\"\n",
    "        \n",
    "\n",
    "    @property\n",
    "    def name(self):\n",
    "        return f\"{self._first} {self._second}\"\n",
    "\n",
    "assert(Person().name == \"Graham Chapman\")\n",
    " "
   ]
  },
  {
   "cell_type": "markdown",
   "metadata": {
    "slideshow": {
     "slide_type": "fragment"
    }
   },
   "source": [
    "Making the same external code work as before."
   ]
  },
  {
   "cell_type": "markdown",
   "metadata": {
    "slideshow": {
     "slide_type": "slide"
    }
   },
   "source": [
    "\n",
    "\n",
    "\n",
    "Note that the code behaves the same way to the outside user.\n",
    "The implementation detail is hidden by private variables.\n",
    "In languages without this feature, such as C++, it is best to always\n",
    "make data private, and always\n",
    "access data through functions:\n",
    "\n",
    "\n"
   ]
  },
  {
   "cell_type": "code",
   "execution_count": 12,
   "metadata": {
    "slideshow": {
     "slide_type": "fragment"
    }
   },
   "outputs": [],
   "source": [
    "class Person(object):\n",
    "    def __init__(self):\n",
    "        self._name = \"Graham Chapman\"\n",
    "        \n",
    "    def name(self):  # an access function\n",
    "        return self._name\n",
    "\n",
    "assert(Person().name() == \"Graham Chapman\")"
   ]
  },
  {
   "cell_type": "markdown",
   "metadata": {
    "slideshow": {
     "slide_type": "fragment"
    }
   },
   "source": [
    "But in Python this is unnecessary because the `@property` capability.\n"
   ]
  },
  {
   "cell_type": "markdown",
   "metadata": {
    "slideshow": {
     "slide_type": "slide"
    }
   },
   "source": [
    "Another way could be to create a member variable `name` which holds the full name. However, this could lead to inconsistent data. If we create a `get_married` function, then the name of the person won't change!"
   ]
  },
  {
   "cell_type": "code",
   "execution_count": 13,
   "metadata": {
    "collapsed": true,
    "slideshow": {
     "slide_type": "fragment"
    }
   },
   "outputs": [
    {
     "ename": "AssertionError",
     "evalue": "",
     "output_type": "error",
     "traceback": [
      "\u001b[0;31m---------------------------------------------------------------------------\u001b[0m",
      "\u001b[0;31mAssertionError\u001b[0m                            Traceback (most recent call last)",
      "\u001b[0;32m<ipython-input-13-7ef0e974fa92>\u001b[0m in \u001b[0;36m<module>\u001b[0;34m()\u001b[0m\n\u001b[1;32m     12\u001b[0m \u001b[0;32massert\u001b[0m\u001b[0;34m(\u001b[0m\u001b[0mgraham\u001b[0m\u001b[0;34m.\u001b[0m\u001b[0mname\u001b[0m \u001b[0;34m==\u001b[0m \u001b[0;34m\"Graham Chapman\"\u001b[0m\u001b[0;34m)\u001b[0m\u001b[0;34m\u001b[0m\u001b[0m\n\u001b[1;32m     13\u001b[0m \u001b[0mgraham\u001b[0m\u001b[0;34m.\u001b[0m\u001b[0mget_married\u001b[0m\u001b[0;34m(\u001b[0m\u001b[0mdavid\u001b[0m\u001b[0;34m)\u001b[0m\u001b[0;34m\u001b[0m\u001b[0m\n\u001b[0;32m---> 14\u001b[0;31m \u001b[0;32massert\u001b[0m\u001b[0;34m(\u001b[0m\u001b[0mgraham\u001b[0m\u001b[0;34m.\u001b[0m\u001b[0mname\u001b[0m \u001b[0;34m==\u001b[0m \u001b[0;34m\"Graham Sherlock\"\u001b[0m\u001b[0;34m)\u001b[0m\u001b[0;34m\u001b[0m\u001b[0m\n\u001b[0m",
      "\u001b[0;31mAssertionError\u001b[0m: "
     ]
    }
   ],
   "source": [
    "class Person(object):\n",
    "    def __init__(self, first, second):\n",
    "        self._first = first\n",
    "        self._second = second\n",
    "        self.name = f\"{self._first} {self._second}\"\n",
    "        \n",
    "    def get_married(self, to):\n",
    "        self._second = to._second\n",
    "\n",
    "graham = Person(\"Graham\", \"Chapman\")\n",
    "david = Person(\"David\", \"Sherlock\")\n",
    "assert(graham.name == \"Graham Chapman\")\n",
    "graham.get_married(david)\n",
    "assert(graham.name == \"Graham Sherlock\")\n"
   ]
  },
  {
   "cell_type": "markdown",
   "metadata": {
    "slideshow": {
     "slide_type": "slide"
    }
   },
   "source": [
    "This type of situation could makes that the object data structure gets inconsistent with itself. Making variables being out of sync with other variables. Each piece of information should only be stored in once place! In this case, `name` should be calculated each time it's required as previously shown.\n",
    "In database design, this is called [Normalisation](https://en.wikipedia.org/wiki/Database_normalization)."
   ]
  },
  {
   "cell_type": "markdown",
   "metadata": {
    "slideshow": {
     "slide_type": "skip"
    }
   },
   "source": [
    "#### UML for private/public"
   ]
  },
  {
   "cell_type": "markdown",
   "metadata": {
    "slideshow": {
     "slide_type": "skip"
    }
   },
   "source": [
    "We prepend a `+`/`-` on public/private member variables and methods:"
   ]
  },
  {
   "cell_type": "code",
   "execution_count": 14,
   "metadata": {
    "slideshow": {
     "slide_type": "skip"
    }
   },
   "outputs": [
    {
     "data": {
      "image/png": "[encoded data removed]",
      "text/plain": [
       "<IPython.core.display.Image object>"
      ]
     },
     "execution_count": 14,
     "metadata": {},
     "output_type": "execute_result"
    }
   ],
   "source": [
    "yuml(\"[Particle|+public;-private|+publicmethod();-privatemethod]\")"
   ]
  },
  {
   "cell_type": "markdown",
   "metadata": {
    "slideshow": {
     "slide_type": "slide"
    }
   },
   "source": [
    "### Class Members"
   ]
  },
  {
   "cell_type": "markdown",
   "metadata": {
    "slideshow": {
     "slide_type": "fragment"
    }
   },
   "source": [
    "\n",
    "*Class*, or *static* members, belong to the class as a whole, and are shared between instances.\n",
    "\n",
    "This is an object that keeps a count on how many have been created of it.\n"
   ]
  },
  {
   "cell_type": "code",
   "execution_count": 15,
   "metadata": {
    "slideshow": {
     "slide_type": "slide"
    }
   },
   "outputs": [
    {
     "data": {
      "text/plain": [
       "6"
      ]
     },
     "execution_count": 15,
     "metadata": {},
     "output_type": "execute_result"
    }
   ],
   "source": [
    "class Counted:\n",
    "    number_created = 0\n",
    "    \n",
    "    def __init__(self):\n",
    "        Counted.number_created += 1\n",
    "        \n",
    "    @classmethod\n",
    "    def howMany(cls):\n",
    "        return cls.number_created\n",
    "\n",
    "Counted.howMany()  # 0\n",
    "x = Counted()\n",
    "Counted.howMany()  # 1\n",
    "z = [Counted() for x in range(5)]\n",
    "Counted.howMany()  # 6 "
   ]
  },
  {
   "cell_type": "markdown",
   "metadata": {
    "slideshow": {
     "slide_type": "slide"
    }
   },
   "source": [
    "The data is shared among all the objects instantiated from that class. Note that in `__init__` we are not using `self.number_created` but the name of the class. The `howMany` function is not a method of a particular object. It's called on the class, not on the object. This is possible by using the `@classmethod` decorator."
   ]
  },
  {
   "cell_type": "markdown",
   "metadata": {
    "slideshow": {
     "slide_type": "slide"
    }
   },
   "source": [
    "## Inheritance and Polymorphism"
   ]
  },
  {
   "cell_type": "markdown",
   "metadata": {
    "slideshow": {
     "slide_type": "slide"
    }
   },
   "source": [
    "### Object-based vs Object-Oriented"
   ]
  },
  {
   "cell_type": "markdown",
   "metadata": {
    "slideshow": {
     "slide_type": "fragment"
    }
   },
   "source": [
    "\n",
    "So far we have seen only object-based programming, not object-oriented programming.\n",
    "\n",
    "Using Objects doesn't mean your code is object-oriented.\n",
    "\n",
    "Thinking in objects and designing with objects makes your code object-oriented.\n",
    "\n",
    "Some useful object-oriented thoughts: **inheritance** and **polymorphism**."
   ]
  },
  {
   "cell_type": "markdown",
   "metadata": {
    "slideshow": {
     "slide_type": "slide"
    }
   },
   "source": [
    "### Inheritance"
   ]
  },
  {
   "cell_type": "markdown",
   "metadata": {
    "slideshow": {
     "slide_type": "fragment"
    }
   },
   "source": [
    "\n",
    "* Inheritance is a mechanism that allows related classes to share code.\n",
    "* Inheritance allows a program to reflect the *[ontology](https://en.wikipedia.org/wiki/Ontology_(information_science))* of kinds of thing in a program.\n"
   ]
  },
  {
   "cell_type": "markdown",
   "metadata": {
    "slideshow": {
     "slide_type": "slide"
    }
   },
   "source": [
    "### Ontology and inheritance"
   ]
  },
  {
   "cell_type": "markdown",
   "metadata": {
    "slideshow": {
     "slide_type": "fragment"
    }
   },
   "source": [
    "\n",
    "* A bird is a kind of animal\n",
    "* An eagle is a kind of bird\n",
    "* A starling is also a kind of bird\n",
    "* All animals can be born and die\n",
    "* Only birds can fly (Ish.)\n",
    "* Only eagles hunt\n",
    "* Only starlings flock\n"
   ]
  },
  {
   "cell_type": "markdown",
   "metadata": {
    "slideshow": {
     "slide_type": "skip"
    }
   },
   "source": [
    "### Inheritance in python"
   ]
  },
  {
   "cell_type": "markdown",
   "metadata": {
    "slideshow": {
     "slide_type": "skip"
    }
   },
   "source": [
    "\n",
    "\n"
   ]
  },
  {
   "cell_type": "code",
   "execution_count": 16,
   "metadata": {
    "slideshow": {
     "slide_type": "slide"
    }
   },
   "outputs": [
    {
     "name": "stdout",
     "output_type": "stream",
     "text": [
      "I exist\n",
      "I'm gonna eatcha!\n"
     ]
    }
   ],
   "source": [
    "class Animal:\n",
    "    def beBorn(self):\n",
    "        print(\"I exist\")\n",
    "    def die(self): \n",
    "        print(\"Argh!\")\n",
    "\n",
    "class Bird(Animal):\n",
    "    def fly(self): \n",
    "        print(\"Whee!\")\n",
    "\n",
    "class Eagle(Bird):\n",
    "    def hunt(self): \n",
    "        print(\"I'm gonna eatcha!\")\n",
    "\n",
    "class Starling(Bird):\n",
    "    def flew(self): \n",
    "        print(\"I'm flying away!\")\n",
    "\n",
    "Eagle().beBorn()\n",
    "Eagle().hunt()"
   ]
  },
  {
   "cell_type": "markdown",
   "metadata": {
    "slideshow": {
     "slide_type": "slide"
    }
   },
   "source": [
    "### Inheritance terminology"
   ]
  },
  {
   "cell_type": "markdown",
   "metadata": {
    "slideshow": {
     "slide_type": "fragment"
    }
   },
   "source": [
    "Here are two equivalents definition, one coming from C++ and another from Java:\n",
    "* A *derived class* _derives_ from a *base class*.\n",
    "* A *subclass* _inherits_ from a *superclass*.\n",
    "\n",
    "These are different terms for the same thing.\n",
    "So, we can say:\n",
    "\n",
    "* Eagle is a subclass of the Animal superclass.\n",
    "* Animal is the base class of the Eagle derived class.\n",
    "\n",
    "Another equivalent definition is using the synonym *child* / *parent* for *derived* / *base* class:\n",
    "* A *child class* extends a *parent class*.\n"
   ]
  },
  {
   "cell_type": "markdown",
   "metadata": {
    "slideshow": {
     "slide_type": "slide"
    }
   },
   "source": [
    "### Inheritance and constructors"
   ]
  },
  {
   "cell_type": "markdown",
   "metadata": {
    "slideshow": {
     "slide_type": "fragment"
    }
   },
   "source": [
    "To use implicitly constructors from a *superclass*, we can use `super` as shown below."
   ]
  },
  {
   "cell_type": "code",
   "execution_count": 17,
   "metadata": {
    "slideshow": {
     "slide_type": "fragment"
    }
   },
   "outputs": [],
   "source": [
    "class Animal:\n",
    "    def __init__(self, age):\n",
    "        self.age = age\n",
    "\n",
    "class Person(Animal):\n",
    "    def __init__(self, age, name):\n",
    "        super().__init__(age)\n",
    "        self.name = name"
   ]
  },
  {
   "cell_type": "markdown",
   "metadata": {
    "slideshow": {
     "slide_type": "notes"
    }
   },
   "source": [
    "Read [Raymond Hettinger](https://twitter.com/raymondh)'s [article about `super`](https://rhettinger.wordpress.com/2011/05/26/super-considered-super/) to see various real examples."
   ]
  },
  {
   "cell_type": "markdown",
   "metadata": {
    "slideshow": {
     "slide_type": "skip"
    }
   },
   "source": [
    "### Inheritance UML diagrams"
   ]
  },
  {
   "cell_type": "markdown",
   "metadata": {
    "slideshow": {
     "slide_type": "skip"
    }
   },
   "source": [
    "UML shows inheritance with an open triangular arrow pointing from subclass to superclass."
   ]
  },
  {
   "cell_type": "code",
   "execution_count": 18,
   "metadata": {
    "slideshow": {
     "slide_type": "skip"
    }
   },
   "outputs": [
    {
     "data": {
      "image/png": "[encoded data removed]",
      "text/plain": [
       "<IPython.core.display.Image object>"
      ]
     },
     "execution_count": 18,
     "metadata": {},
     "output_type": "execute_result"
    }
   ],
   "source": [
    "yuml(\"[Animal]^-[Bird],[Bird]^-[Eagle],[Bird]^-[Starling]%\")"
   ]
  },
  {
   "cell_type": "markdown",
   "metadata": {
    "slideshow": {
     "slide_type": "slide"
    }
   },
   "source": [
    "### Aggregation vs Inheritance"
   ]
  },
  {
   "cell_type": "markdown",
   "metadata": {
    "slideshow": {
     "slide_type": "fragment"
    }
   },
   "source": [
    "\n",
    "If one object *has* or *owns* one or more objects, this is *not* inheritance.\n",
    "\n",
    "For example, the boids example we saw few weeks ago, could be organised as an overall Model, which it owns several Boids,\n",
    "and each Boid owns two 2-vectors, one for position and one for velocity.\n"
   ]
  },
  {
   "cell_type": "markdown",
   "metadata": {
    "slideshow": {
     "slide_type": "skip"
    }
   },
   "source": [
    "#### Aggregation in UML"
   ]
  },
  {
   "cell_type": "markdown",
   "metadata": {
    "slideshow": {
     "slide_type": "skip"
    }
   },
   "source": [
    "The Boids situation can be represented thus:"
   ]
  },
  {
   "cell_type": "code",
   "execution_count": 19,
   "metadata": {
    "slideshow": {
     "slide_type": "skip"
    }
   },
   "outputs": [
    {
     "data": {
      "image/png": "[encoded data removed]",
      "text/plain": [
       "<IPython.core.display.Image object>"
      ]
     },
     "execution_count": 19,
     "metadata": {},
     "output_type": "execute_result"
    }
   ],
   "source": [
    "yuml(\"[Model]<>-*>[Boid],[Boid]position++->[Vector],[Boid]velocity++->[Vector]%\")"
   ]
  },
  {
   "cell_type": "markdown",
   "metadata": {
    "slideshow": {
     "slide_type": "skip"
    }
   },
   "source": [
    "The open diamond indicates **Aggregation**, the closed diamond **composition**.\n",
    "(A given boid might belong to multiple models, a given position vector is forever part of the corresponding Boid.)\n",
    "\n",
    "The asterisk represents cardinality, a model may contain multiple Boids. This is a [one to many relationship](https://en.wikipedia.org/wiki/One-to-many_(data_model)). [Many to many relationship](https://en.wikipedia.org/wiki/Many-to-many_(data_model)) is shown with `*` on both sides."
   ]
  },
  {
   "cell_type": "markdown",
   "metadata": {
    "slideshow": {
     "slide_type": "slide"
    }
   },
   "source": [
    "#### Refactoring to inheritance"
   ]
  },
  {
   "cell_type": "markdown",
   "metadata": {
    "slideshow": {
     "slide_type": "fragment"
    }
   },
   "source": [
    "\n",
    "Smell: Repeated code between two classes which are both ontologically subtypes of something\n",
    "\n",
    "Before:\n",
    "\n",
    "\n"
   ]
  },
  {
   "cell_type": "code",
   "execution_count": 20,
   "metadata": {
    "slideshow": {
     "slide_type": "fragment"
    }
   },
   "outputs": [],
   "source": [
    "class Person:\n",
    "    def __init__(self, age, job): \n",
    "        self.age = age\n",
    "        self.job = job\n",
    "    def birthday(self): \n",
    "        self.age += 1\n",
    "\n",
    "class Pet:\n",
    "    def __init__(self, age, owner): \n",
    "        self.age = age\n",
    "        self.owner = owner\n",
    "    def birthday(self): \n",
    "        self.age += 1"
   ]
  },
  {
   "cell_type": "markdown",
   "metadata": {
    "slideshow": {
     "slide_type": "slide"
    }
   },
   "source": [
    "\n",
    "\n",
    "\n",
    "After:\n",
    "\n",
    "\n"
   ]
  },
  {
   "cell_type": "code",
   "execution_count": 21,
   "metadata": {
    "slideshow": {
     "slide_type": "fragment"
    }
   },
   "outputs": [],
   "source": [
    "class Animal:\n",
    "    def __init__(self, age): \n",
    "        self.age = age\n",
    "    def birthday(self): \n",
    "        self.age += 1\n",
    "\n",
    "class Person(Animal):\n",
    "    def __init__(self, age, job):\n",
    "        self.job = job\n",
    "        super().__init__(age)\n",
    "        \n",
    "class Pet(Animal):\n",
    "    def __init__(self, age, owner):\n",
    "        self.owner = owner\n",
    "        super().__init__(age)"
   ]
  },
  {
   "cell_type": "markdown",
   "metadata": {
    "slideshow": {
     "slide_type": "slide"
    }
   },
   "source": [
    "### Polymorphism"
   ]
  },
  {
   "cell_type": "code",
   "execution_count": 22,
   "metadata": {
    "slideshow": {
     "slide_type": "slide"
    }
   },
   "outputs": [
    {
     "name": "stdout",
     "output_type": "stream",
     "text": [
      "Bark\n",
      "Bark\n",
      "Miaow\n",
      "Oink\n",
      "Moo\n",
      "Miaow\n"
     ]
    }
   ],
   "source": [
    "class Dog:\n",
    "    def noise(self):\n",
    "        return \"Bark\"\n",
    "\n",
    "class Cat:\n",
    "    def noise(self):\n",
    "        return \"Miaow\"\n",
    "\n",
    "class Pig:\n",
    "    def noise(self):\n",
    "        return \"Oink\"\n",
    "\n",
    "class Cow:\n",
    "    def noise(self):\n",
    "        return \"Moo\"\n",
    "\n",
    "animals = [Dog(), Dog(), Cat(), Pig(), Cow(), Cat()]\n",
    "for animal in animals:\n",
    "    print(animal.noise())"
   ]
  },
  {
   "cell_type": "markdown",
   "metadata": {
    "slideshow": {
     "slide_type": "fragment"
    }
   },
   "source": [
    "\n",
    "\n",
    "\n",
    "This will print \"Bark Bark Miaow Oink Moo Miaow\"\n",
    "\n",
    "If two classes support the same method, but it does different things for the two classes, \n",
    "then if an object is of an unknown class, calling the method will invoke the version for\n",
    "whatever class the instance is an instance of.\n"
   ]
  },
  {
   "cell_type": "markdown",
   "metadata": {
    "slideshow": {
     "slide_type": "slide"
    }
   },
   "source": [
    "### Polymorphism and Inheritance"
   ]
  },
  {
   "cell_type": "markdown",
   "metadata": {
    "slideshow": {
     "slide_type": "fragment"
    }
   },
   "source": [
    "\n",
    "Often, polymorphism uses multiple derived classes with a common base class.\n",
    "However, [duck typing](https://en.wikipedia.org/wiki/Duck_typing) in Python means that all that is required is that the \n",
    "types support a common **Concept** (Such as iterable, or container, or, in this case, the\n",
    "Noisy concept.)\n",
    "\n",
    "A common base class is used where there is a likely **default** that you want several\n",
    "of the derived classes to have.\n",
    "\n",
    "\n"
   ]
  },
  {
   "cell_type": "code",
   "execution_count": 23,
   "metadata": {
    "slideshow": {
     "slide_type": "slide"
    }
   },
   "outputs": [
    {
     "name": "stdout",
     "output_type": "stream",
     "text": [
      "Bark\n",
      "I don't make a noise.\n",
      "Oink\n",
      "Moo\n",
      "Bark\n"
     ]
    }
   ],
   "source": [
    "class Animal:\n",
    "    def noise(self):\n",
    "        return \"I don't make a noise.\"\n",
    "\n",
    "class Dog(Animal):\n",
    "    def noise(self):\n",
    "        return \"Bark\"\n",
    "\n",
    "class Worm(Animal):\n",
    "    pass\n",
    "\n",
    "class Poodle(Dog):\n",
    "    pass\n",
    "\n",
    "animals = [Dog(), Worm(), Pig(), Cow(), Poodle()]\n",
    "for animal in animals:\n",
    "    print(animal.noise())"
   ]
  },
  {
   "cell_type": "markdown",
   "metadata": {
    "slideshow": {
     "slide_type": "slide"
    }
   },
   "source": [
    "### Undefined Functions and Polymorphism"
   ]
  },
  {
   "cell_type": "markdown",
   "metadata": {
    "slideshow": {
     "slide_type": "fragment"
    }
   },
   "source": [
    "\n",
    "In the above example, we put in a dummy noise for Animals that don't know what type they are.\n",
    "\n",
    "Instead, we can explicitly deliberately leave this undefined, and we get a crash if we access an undefined method.\n",
    "\n",
    "\n"
   ]
  },
  {
   "cell_type": "code",
   "execution_count": 24,
   "metadata": {
    "collapsed": true,
    "slideshow": {
     "slide_type": "fragment"
    }
   },
   "outputs": [],
   "source": [
    "class Animal:\n",
    "    pass\n",
    "\n",
    "class Worm(Animal):\n",
    "    pass"
   ]
  },
  {
   "cell_type": "code",
   "execution_count": 25,
   "metadata": {
    "slideshow": {
     "slide_type": "fragment"
    }
   },
   "outputs": [
    {
     "ename": "AttributeError",
     "evalue": "'Worm' object has no attribute 'noise'",
     "output_type": "error",
     "traceback": [
      "\u001b[0;31m---------------------------------------------------------------------------\u001b[0m",
      "\u001b[0;31mAttributeError\u001b[0m                            Traceback (most recent call last)",
      "\u001b[0;32m<ipython-input-25-048812fbd3ee>\u001b[0m in \u001b[0;36m<module>\u001b[0;34m()\u001b[0m\n\u001b[0;32m----> 1\u001b[0;31m \u001b[0mWorm\u001b[0m\u001b[0;34m(\u001b[0m\u001b[0;34m)\u001b[0m\u001b[0;34m.\u001b[0m\u001b[0mnoise\u001b[0m\u001b[0;34m(\u001b[0m\u001b[0;34m)\u001b[0m \u001b[0;31m# Generates error\u001b[0m\u001b[0;34m\u001b[0m\u001b[0m\n\u001b[0m",
      "\u001b[0;31mAttributeError\u001b[0m: 'Worm' object has no attribute 'noise'"
     ]
    }
   ],
   "source": [
    "Worm().noise() # Generates error"
   ]
  },
  {
   "cell_type": "markdown",
   "metadata": {
    "slideshow": {
     "slide_type": "slide"
    }
   },
   "source": [
    "### Refactoring to Polymorphism"
   ]
  },
  {
   "cell_type": "markdown",
   "metadata": {
    "slideshow": {
     "slide_type": "fragment"
    }
   },
   "source": [
    "\n",
    "Smell: a function uses a big set of `if` statements or a `case` statement to decide what to do:\n",
    "\n",
    "Before:\n",
    "\n",
    "\n"
   ]
  },
  {
   "cell_type": "code",
   "execution_count": 26,
   "metadata": {
    "slideshow": {
     "slide_type": "fragment"
    }
   },
   "outputs": [],
   "source": [
    "class Animal:\n",
    "    def __init__(self, animal_kind): \n",
    "        self.animal_kind = animal_kind\n",
    "        \n",
    "    def noise(self): \n",
    "        if self.animal_kind == \"Dog\":\n",
    "            return \"Bark\"\n",
    "        elif self.animal_kind == \"Cat\":\n",
    "            return \"Miaow\"\n",
    "        elif self.animal_kind == \"Cow\":\n",
    "            return \"Moo\""
   ]
  },
  {
   "cell_type": "markdown",
   "metadata": {
    "slideshow": {
     "slide_type": "skip"
    }
   },
   "source": [
    "which is better replaced by the code above."
   ]
  },
  {
   "cell_type": "markdown",
   "metadata": {
    "slideshow": {
     "slide_type": "slide"
    }
   },
   "source": [
    "### Interfaces and concepts"
   ]
  },
  {
   "cell_type": "markdown",
   "metadata": {
    "slideshow": {
     "slide_type": "fragment"
    }
   },
   "source": [
    "\n",
    "In C++, it is common to define classes which declare dummy methods, called \"virtual\" methods, which specify\n",
    "the methods which derived classes must implement. Classes which define these methods, but which cannot be instantiated\n",
    "into actual objects, are called \"abstract base\" classes or \"interfaces\".\n",
    "\n",
    "Python's Duck Typing approach means explicitly declaring these is unnesssary: any class concept which implements\n",
    "appropriately named methods will do. These as user-defined **concepts**, just as \"iterable\" or \"container\" are \n",
    "built-in Python concepts. A class is said to \"implement an interface\" or \"satisfy a concept\".\n"
   ]
  },
  {
   "cell_type": "markdown",
   "metadata": {
    "slideshow": {
     "slide_type": "skip"
    }
   },
   "source": [
    "### Interfaces in UML"
   ]
  },
  {
   "cell_type": "markdown",
   "metadata": {
    "slideshow": {
     "slide_type": "skip"
    }
   },
   "source": [
    "Interfaces implementation (a common ancestor that doesn't do anything but defines methods to share) in UML is indicated thus:"
   ]
  },
  {
   "cell_type": "code",
   "execution_count": 27,
   "metadata": {
    "slideshow": {
     "slide_type": "skip"
    }
   },
   "outputs": [
    {
     "data": {
      "image/png": "[encoded data removed]",
      "text/plain": [
       "<IPython.core.display.Image object>"
      ]
     },
     "execution_count": 27,
     "metadata": {},
     "output_type": "execute_result"
    }
   ],
   "source": [
    "yuml(\"[<<Animal>>]^-.-[Dog]\")"
   ]
  },
  {
   "cell_type": "markdown",
   "metadata": {
    "slideshow": {
     "slide_type": "skip"
    }
   },
   "source": [
    "### Further UML"
   ]
  },
  {
   "cell_type": "markdown",
   "metadata": {
    "slideshow": {
     "slide_type": "skip"
    }
   },
   "source": [
    "\n",
    "UML is a much larger diagram language than the aspects we've shown here.\n",
    "\n",
    "* Message sequence charts show signals passing back and forth between objects ([Web Sequence Diagrams](https://www.websequencediagrams.com/)).\n",
    "\n",
    "* Entity Relationship Diagrams can be used to show more general relationships between things in a system.\n",
    "\n",
    "\n",
    "Read more about UML on Martin Fowler's [book about the topic](https://martinfowler.com/books/uml.html).\n"
   ]
  }
 ],
 "metadata": {
  "celltoolbar": "Slideshow",
  "jekyll": {
   "display_name": "Object Oriented Design"
  },
  "kernelspec": {
   "display_name": "Python 3",
   "language": "python",
   "name": "python3"
  },
  "language_info": {
   "codemirror_mode": {
    "name": "ipython",
    "version": 3
   },
   "file_extension": ".py",
   "mimetype": "text/x-python",
   "name": "python",
   "nbconvert_exporter": "python",
   "pygments_lexer": "ipython3",
   "version": "3.7.3"
  }
 },
 "nbformat": 4,
 "nbformat_minor": 1
}
