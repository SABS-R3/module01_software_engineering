{
 "cells": [
  {
   "cell_type": "markdown",
   "metadata": {},
   "source": [
    "# Object-Oriented Design Lab\n",
    "\n",
    "As a research software engineer, you'll often meet a PI who has a great idea for a research project, and funding (yay!), but no idea how to turn it into software. That's good news, it means we were right to pick this niche!\n",
    "\n",
    "In this lab we'll give you a rough outline of a project, based vaguely on a real project that the Oxford RSE group worked on. Your goal is to design a system that could achieve the goals of the project.\n",
    "\n",
    "At the end of the lab, each group will get a chance to present its design. Look out for commonalities and differences between your proposals. Why did you come up with different solutions, what can you each learn from the others' approaches?\n",
    "\n",
    "## Reading Comprehension App\n",
    "\n",
    "A researcher in the educational psychology department has an idea for an intervention that will help children improve their reading skills. To validate her idea, she needs a tablet app that can test a child's reading ability. In any school, a whole year group will be tested, both before and after the intervention is administered. Each child is tested individually, and they work together with the tester on the app using a single tablet computer.\n",
    "\n",
    "The tester gives the tablet to the child, who reads a paragraph on the screen and gives the tablet back when they are finished. The tester then asks the child about the text they just read, and records the child's answers. The app keeps track of how long it took the child to read the paragraph, how long it took to give each answer, and whether the answer was correct. This information is used to calculate a reading score for each child, which is uploaded to a server.\n",
    "\n",
    "The school administrators can use a web interface on the server to see the scores for their pupils, and highlight those children who are in the lower quartile for reading score and may need additional help. The researcher can use the web interface to see aggregate information on reading score across the whole population, compare the population distribution before and after the intervention, and identify outliers who improved particularly greatly or regressed particularly badly in their results.\n",
    "\n",
    "It should be possible to change the set of questions used in the app. In particular, the researchers hypothesise that their intervention has different effect in children learning different languages, so it should be possible to \"localise\" the system so that it can show content in English, French, German, or Dutch.\n",
    "\n",
    "Design an object-oriented system to address these needs. You do not need to call out particular technologies such as the tablet platform or network protocols used, but you _should_ indicate which parts of your system are deployed in the tablet app and which are elsewhere, for example on a network server."
   ]
  }
 ],
 "metadata": {
  "kernelspec": {
   "display_name": "Python 3",
   "language": "python",
   "name": "python3"
  },
  "language_info": {
   "codemirror_mode": {
    "name": "ipython",
    "version": 3
   },
   "file_extension": ".py",
   "mimetype": "text/x-python",
   "name": "python",
   "nbconvert_exporter": "python",
   "pygments_lexer": "ipython3",
   "version": "3.6.8"
  }
 },
 "nbformat": 4,
 "nbformat_minor": 2
}
