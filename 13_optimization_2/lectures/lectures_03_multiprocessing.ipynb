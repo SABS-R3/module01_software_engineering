{
 "cells": [
  {
   "cell_type": "markdown",
   "metadata": {
    "slideshow": {
     "slide_type": "slide"
    }
   },
   "source": [
    "# Python Multiprocessing\n",
    "## Martin Robinson\n",
    "## Oct 2019"
   ]
  },
  {
   "cell_type": "markdown",
   "metadata": {
    "slideshow": {
     "slide_type": "slide"
    }
   },
   "source": [
    "# Python multiprocessing\n",
    "\n",
    "- The **Python Global Interpreter Lock (GIL)** prevents more than one thread from executing the interpreter at a time (i.e. no parallel multithreading)\n",
    "- However, you can run multiple *processes* in parallel\n",
    "    - Both processes and threads are independent sequences of executing instuctions, but threads are treated as more lightweight and share the same address space (i.e. shared memory)\n",
    "- The Python **multiprocessing** module provides an easy facility for **process creation, synchronisation and communication**"
   ]
  },
  {
   "cell_type": "markdown",
   "metadata": {
    "slideshow": {
     "slide_type": "slide"
    }
   },
   "source": [
    "# Process creation\n",
    "\n",
    "- Create a `multiprocessing.Process` object to spawn a new process"
   ]
  },
  {
   "cell_type": "code",
   "execution_count": null,
   "metadata": {
    "slideshow": {
     "slide_type": "-"
    }
   },
   "outputs": [],
   "source": [
    "import multiprocessing as mp\n",
    "\n",
    "def f(name):\n",
    "    print('hello', name)\n",
    "\n",
    "p = mp.Process(target=f, args=('bob',))\n",
    "p.start()\n",
    "p.join()"
   ]
  },
  {
   "cell_type": "markdown",
   "metadata": {
    "slideshow": {
     "slide_type": "slide"
    }
   },
   "source": [
    "# Interprocess communication\n",
    "\n",
    "- Can exchange objects between processes using `Queue` and `Pipe`\n",
    "    - `Queue` is a one-way first-in-first-out (FIFO) queue of objects (thread-safe, implemented with a `Pipe` and a few locks/semaphores) \n",
    "    - `Pipe` is a two-way pipe between a pair of processes. Might become corrupted if two processes send at the same time\n"
   ]
  },
  {
   "cell_type": "code",
   "execution_count": null,
   "metadata": {
    "slideshow": {
     "slide_type": "-"
    }
   },
   "outputs": [],
   "source": [
    "def f(queue, conn):\n",
    "    queue.put('hello from queue!')\n",
    "    conn.send('hello from pipe!')\n",
    "    conn.close()\n",
    "\n",
    "if __name__ == '__main__':\n",
    "    queue = mp.Queue()\n",
    "    parent_conn, child_conn = mp.Pipe()\n",
    "    p = mp.Process(target=f, args=(queue,child_conn))\n",
    "    p.start()\n",
    "    print(queue.get())\n",
    "    print(parent_conn.recv())\n",
    "    p.join()"
   ]
  },
  {
   "cell_type": "markdown",
   "metadata": {
    "slideshow": {
     "slide_type": "slide"
    }
   },
   "source": [
    "# Aside - Python pickle\n",
    "\n",
    "- Objects transferred between processes must be serialised (converted to a stream of bytes)\n",
    "- This is achieved via the `pickle` module\n",
    "- Any object that is *pickleable* can be transferred between processes. This includes all the standard python containers (including numpy arrays)\n",
    "- `pickle` is also very useful for storing arbitrary objects to files"
   ]
  },
  {
   "cell_type": "code",
   "execution_count": null,
   "metadata": {
    "slideshow": {
     "slide_type": "-"
    }
   },
   "outputs": [],
   "source": [
    "import pickle\n",
    "\n",
    "favorite_color = { \"lion\": \"yellow\", \"kitty\": \"red\" }\n",
    "\n",
    "# note: pickle is a binary serialisation format!\n",
    "pickle.dump( favorite_color, open( \"save.p\", \"wb\" ) ) \n",
    "\n",
    "saved_favorite_color = pickle.load( open( \"save.p\", \"rb\" ) )\n",
    "print(saved_favorite_color)"
   ]
  },
  {
   "cell_type": "markdown",
   "metadata": {
    "slideshow": {
     "slide_type": "slide"
    }
   },
   "source": [
    "# Process synchronisation\n",
    "\n",
    "- `multiprocessing` has a number of synchronisation mechanisms: `Lock`, `RLock`, `Semaphore`, `Event`, `Barrier`\n",
    "- all are useful for concurrent programming, but this is a bit beyond the scope of this lecture, so will just provide a simple example of a lock:\n",
    "\n"
   ]
  },
  {
   "cell_type": "code",
   "execution_count": null,
   "metadata": {
    "slideshow": {
     "slide_type": "-"
    }
   },
   "outputs": [],
   "source": [
    "def f(l, i):\n",
    "    l.acquire()\n",
    "    try:\n",
    "        print('hello world', i)\n",
    "    finally:\n",
    "        l.release()\n",
    "\n",
    "if __name__ == '__main__':\n",
    "    lock = mp.Lock()\n",
    "\n",
    "    for num in range(10):\n",
    "        mp.Process(target=f, args=(lock, num)).start()"
   ]
  },
  {
   "cell_type": "markdown",
   "metadata": {
    "slideshow": {
     "slide_type": "slide"
    }
   },
   "source": [
    "# Process pools\n",
    "\n",
    "- We mainly want to focus on data parallism, that is we want to calculate the result of a function across multiple data inputs\n",
    "- The `multiprocessing` module provides the ability to create *pools* of processes and use these to parallelise function evaluations"
   ]
  },
  {
   "cell_type": "code",
   "execution_count": null,
   "metadata": {
    "slideshow": {
     "slide_type": "-"
    }
   },
   "outputs": [],
   "source": [
    "def f(x):\n",
    "    return x*x\n",
    "\n",
    "if __name__ == '__main__':\n",
    "    with mp.Pool(5) as p:\n",
    "        print(p.map(f, [1, 2, 3]))"
   ]
  },
  {
   "cell_type": "markdown",
   "metadata": {
    "slideshow": {
     "slide_type": "slide"
    }
   },
   "source": [
    "# Process pools\n",
    "\n",
    "- `imap` is a lazy version of `map`"
   ]
  },
  {
   "cell_type": "code",
   "execution_count": null,
   "metadata": {
    "slideshow": {
     "slide_type": "-"
    }
   },
   "outputs": [],
   "source": [
    "def f(x):\n",
    "    return x*x\n",
    "\n",
    "if __name__ == '__main__':\n",
    "    with mp.Pool(5) as p:\n",
    "        # imap returns an iterator\n",
    "        print(p.imap(f, [1, 2, 3]))\n",
    "        \n",
    "        # loop is run as the results become available\n",
    "        for i in p.imap(f, [1, 2, 3]):\n",
    "            print(i)\n",
    "            \n",
    "         # result might be in a different order\n",
    "        for i in p.imap_unordered(f, [1, 2, 3]):\n",
    "            print(i)"
   ]
  },
  {
   "cell_type": "markdown",
   "metadata": {
    "slideshow": {
     "slide_type": "slide"
    }
   },
   "source": [
    "# Process pools\n",
    "\n",
    "- `starmap` is a version of `map` that allows you to use functions expecting multiple inputs"
   ]
  },
  {
   "cell_type": "code",
   "execution_count": null,
   "metadata": {
    "slideshow": {
     "slide_type": "-"
    }
   },
   "outputs": [],
   "source": [
    "def f(x, y):\n",
    "    return x*y\n",
    "\n",
    "if __name__ == '__main__':\n",
    "    with mp.Pool(5) as p:\n",
    "        print(p.starmap(f, [(1,1), (2,2), (3,3)]))"
   ]
  },
  {
   "cell_type": "markdown",
   "metadata": {
    "slideshow": {
     "slide_type": "slide"
    }
   },
   "source": [
    "# Summary\n",
    "\n",
    "- Parallel programming in Python is complicated by the GIL\n",
    "- **but**, as long as your objects are pickleable, the `multiprocessing` library provides an easy way to do multiprocess parallism, especially with `Pool`\n",
    "- There is also nothing to stop you using OpenMP within C/C++, then wrapping this to use within Python"
   ]
  }
 ],
 "metadata": {
  "language_info": {
   "name": "python",
   "pygments_lexer": "ipython3"
  }
 },
 "nbformat": 4,
 "nbformat_minor": 2
}
