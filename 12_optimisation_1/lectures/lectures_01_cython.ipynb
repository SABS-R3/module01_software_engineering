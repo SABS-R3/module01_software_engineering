{
 "cells": [
  {
   "cell_type": "markdown",
   "metadata": {
    "slideshow": {
     "slide_type": "slide"
    }
   },
   "source": [
    "# Optimisation - Cython\n",
    "## Martin Robinson\n",
    "## Oct 2019"
   ]
  },
  {
   "cell_type": "markdown",
   "metadata": {
    "slideshow": {
     "slide_type": "slide"
    }
   },
   "source": [
    "# Using lower-level languages\n",
    "\n",
    "- Interpreted languages are fundamentially speed-limited when they only consider *type* at run-time.\n",
    "- e.g. consider what happens with the types of the variables in the following function\n",
    "```python\n",
    "def norm(arg_list, p):\n",
    "    sum = 0               # sum is an int here\n",
    "    for x in arg_list:    # type of x depends on input container\n",
    "        sum += abs(x)**p  # type of rhs depends on both x and p, sum could *change* type here\n",
    "    return sum**(1.0/p)   # return value is probably float due to 1.0\n",
    "```\n",
    "- how much memory to allocate for sum? does this memory need to be re-allocated during the loop? are conversion routines between types required during the loop?"
   ]
  },
  {
   "cell_type": "markdown",
   "metadata": {
    "slideshow": {
     "slide_type": "slide"
    }
   },
   "source": [
    "- compare to equivilant C++ code\n",
    "```cpp\n",
    "float norm(std::vector<float>& arg_list, float p) {\n",
    "    float sum = 0.0f;\n",
    "    for (size_t i = 0; i < arg_list.size(); ++i) {\n",
    "        sum += std::pow(std::abs(arg_list), p);\n",
    "    }\n",
    "    return std::pow(sum, 1.0f/p);\n",
    "}\n",
    "```\n",
    "- compiler can pre-allocate the stack size because the sizes of local variables known\n",
    "- compiler can generate efficient machine code because the programmer has provided more information (i.e. types)\n",
    "- the programmer has put the required effort into making sure no type conversions are needed\n",
    "    "
   ]
  },
  {
   "cell_type": "markdown",
   "metadata": {
    "slideshow": {
     "slide_type": "slide"
    }
   },
   "source": [
    "# \"Compiling\" Python code\n",
    "\n",
    "- All python implementations (CPython, PyPy, IronPython) compile to *bytecode*, which is then either interpreted at run-time, or perhaps further compiled to native machine code\n",
    "- Implementations that compile to native machine code usually implement something close to normal python, but with restrictions or additions that alter the nature of the language. These include:\n",
    "    - Cython (Python-to-C)\n",
    "    - Nuitka (Python-to-C++)\n",
    "    - Numba (Python-to-LLVM IR)"
   ]
  },
  {
   "cell_type": "markdown",
   "metadata": {
    "slideshow": {
     "slide_type": "slide"
    }
   },
   "source": [
    "# \"Wrapping\" C and C++ for use in Python\n",
    "\n",
    "- the compilers in the previous slide implement an altered version of python, yet another language to learn!\n",
    "- If your already comfortable with C, C++ or Fortran, why not use this directly and write a *wrapper* to call from Python?\n",
    "- Many available wrappers, including:\n",
    "    - Pybind11 (C++)\n",
    "    - F2PY (Fortran)\n",
    "    - CPython Python-C-API (C)"
   ]
  },
  {
   "cell_type": "markdown",
   "metadata": {
    "slideshow": {
     "slide_type": "slide"
    }
   },
   "source": [
    "# Cython\n",
    "\n",
    "- \"Cython is an optimising static compiler for both the Python programming language and the extended Cython programming language\"\n",
    "- That is, can compile standard Python code, as well as a version of Python with extensions for types etc.\n",
    "- Very useful as an iterative workflow, can start with standard Python and incrementally optimise"
   ]
  },
  {
   "cell_type": "markdown",
   "metadata": {
    "slideshow": {
     "slide_type": "slide"
    }
   },
   "source": [
    "# Your first Cython program\n",
    "\n",
    "- Here is some python code that calculates the element-wise matrix p-norm of a 2D numpy array\n",
    "- Our aim is to speed it up using cython"
   ]
  },
  {
   "cell_type": "code",
   "execution_count": null,
   "metadata": {
    "slideshow": {
     "slide_type": "-"
    }
   },
   "outputs": [],
   "source": [
    "import numpy as np\n",
    "\n",
    "def norm_py(a, p):\n",
    "    s = 0\n",
    "    x_max = a.shape[0]\n",
    "    y_max = a.shape[1]\n",
    "    for i in range(x_max):\n",
    "        for j in range(y_max):\n",
    "            s += abs(a[i, j])**p\n",
    "    return s**(1.0/p)"
   ]
  },
  {
   "cell_type": "markdown",
   "metadata": {
    "slideshow": {
     "slide_type": "slide"
    }
   },
   "source": [
    "# Manual compilation\n",
    "\n",
    "- Cython source files end in `.pyx`\n",
    "- you can manually compile Cython source files to C using the `cython` command\n",
    "\n",
    "```bash\n",
    "$ cython yourmod.pyx\n",
    "```\n",
    "\n",
    "- In jupyter notebooks use the `%%cython` magic command"
   ]
  },
  {
   "cell_type": "code",
   "execution_count": null,
   "metadata": {
    "slideshow": {
     "slide_type": "-"
    }
   },
   "outputs": [],
   "source": [
    "%load_ext Cython"
   ]
  },
  {
   "cell_type": "code",
   "execution_count": null,
   "metadata": {
    "slideshow": {
     "slide_type": "-"
    }
   },
   "outputs": [],
   "source": [
    "%%cython\n",
    "def norm_pyx(a, p):\n",
    "    s = 0\n",
    "    x_max = a.shape[0]\n",
    "    y_max = a.shape[1]\n",
    "    for i in range(x_max):\n",
    "        for j in range(y_max):\n",
    "            s += abs(a[i, j])**p\n",
    "    return s**(1.0/p)"
   ]
  },
  {
   "cell_type": "code",
   "execution_count": null,
   "metadata": {
    "slideshow": {
     "slide_type": "slide"
    }
   },
   "outputs": [],
   "source": [
    "a = np.random.random((1000, 1000))\n",
    "p = 2\n",
    "%timeit norm_py(a, p)"
   ]
  },
  {
   "cell_type": "code",
   "execution_count": null,
   "metadata": {
    "slideshow": {
     "slide_type": "-"
    }
   },
   "outputs": [],
   "source": [
    "%timeit norm_pyx(a, p)"
   ]
  },
  {
   "cell_type": "markdown",
   "metadata": {
    "slideshow": {
     "slide_type": "slide"
    }
   },
   "source": [
    "# Examining the generated code\n",
    "\n",
    "- An important part of the cython workflow is to examine, and optimise, the generated C code\n",
    "- You can get this using the `-a` flag\n",
    "\n",
    "```bash\n",
    "$ cython -a yourmod.pyx\n",
    "```\n",
    "\n",
    "- In jupyter notebooks just pass the `-a` flag to the cython magic command, see next slide for an example"
   ]
  },
  {
   "cell_type": "code",
   "execution_count": null,
   "metadata": {
    "slideshow": {
     "slide_type": "slide"
    }
   },
   "outputs": [],
   "source": [
    "%%cython -a\n",
    "def norm_pyx(a, p):\n",
    "    s = 0\n",
    "    x_max = a.shape[0]\n",
    "    y_max = a.shape[1]\n",
    "    for i in range(x_max):\n",
    "        for j in range(y_max):\n",
    "            s += abs(a[i, j])**p\n",
    "    return s**(1.0/p)"
   ]
  },
  {
   "cell_type": "markdown",
   "metadata": {
    "slideshow": {
     "slide_type": "slide"
    }
   },
   "source": [
    "# Adding types\n",
    "\n",
    "- now lets give the cython compiler some more information on the types we want to use\n",
    "- this should reduce the amount of Python interaction (yellow lines) and increase speed\n",
    "- we now break source compatability, no longer pure Python syntax"
   ]
  },
  {
   "cell_type": "code",
   "execution_count": null,
   "metadata": {
    "slideshow": {
     "slide_type": "slide"
    }
   },
   "outputs": [],
   "source": [
    "%%cython -a\n",
    "cpdef double norm_pyx(a, double p):\n",
    "    cdef double s = 0.0\n",
    "    cdef Py_ssize_t x_max = a.shape[0]\n",
    "    cdef Py_ssize_t y_max = a.shape[1]\n",
    "    for i in range(x_max):\n",
    "        for j in range(y_max):\n",
    "            s += abs(a[i, j])**p\n",
    "    return s**(1.0/p)"
   ]
  },
  {
   "cell_type": "code",
   "execution_count": null,
   "metadata": {
    "slideshow": {
     "slide_type": "slide"
    }
   },
   "outputs": [],
   "source": [
    "%timeit norm_py(a, p)"
   ]
  },
  {
   "cell_type": "code",
   "execution_count": null,
   "metadata": {
    "slideshow": {
     "slide_type": "slide"
    }
   },
   "outputs": [],
   "source": [
    "%timeit norm_pyx(a, p)"
   ]
  },
  {
   "cell_type": "markdown",
   "metadata": {
    "slideshow": {
     "slide_type": "slide"
    }
   },
   "source": [
    "# memoryviews\n",
    "\n",
    "- The input numpy array `a` is still a python object, indexing this object is slow\n",
    "- Cython provides typed *memoryviews* to allow efficient access to memory buffers, such as numpy arrays\n",
    "\n",
    "```python\n",
    "cdef int [:] 1d_array_of_ints\n",
    "cdef double [:,:,:] 3d_array_of_doubles\n",
    "cdef function_that_takes_a_1d_array_of_floats(float [:] arg):\n",
    "```\n"
   ]
  },
  {
   "cell_type": "code",
   "execution_count": null,
   "metadata": {
    "slideshow": {
     "slide_type": "slide"
    }
   },
   "outputs": [],
   "source": [
    "%%cython -a\n",
    "cpdef double norm_pyx(double [:,:] a, double p):\n",
    "    cdef double s = 0.0\n",
    "    cdef Py_ssize_t x_max = a.shape[0]\n",
    "    cdef Py_ssize_t y_max = a.shape[1]\n",
    "    for i in range(x_max):\n",
    "        for j in range(y_max):\n",
    "            s += abs(a[i, j])**p\n",
    "    return s**(1.0/p)"
   ]
  },
  {
   "cell_type": "code",
   "execution_count": null,
   "metadata": {
    "slideshow": {
     "slide_type": "slide"
    }
   },
   "outputs": [],
   "source": [
    "%timeit norm_py(a, p)"
   ]
  },
  {
   "cell_type": "code",
   "execution_count": null,
   "metadata": {
    "slideshow": {
     "slide_type": "-"
    }
   },
   "outputs": [],
   "source": [
    "%timeit norm_pyx(a, p)"
   ]
  },
  {
   "cell_type": "markdown",
   "metadata": {
    "slideshow": {
     "slide_type": "slide"
    }
   },
   "source": [
    "# Tuning indexing further\n",
    "\n",
    "- by default, Cython uses python behaviour for everything\n",
    "- this means bounds checking for accessing arrays, divide by zero checks, and many other checks that slow down your code.\n",
    "- **once** you are confident that your code is working as expected and you don't need these checks, you can turn them off"
   ]
  },
  {
   "cell_type": "code",
   "execution_count": null,
   "metadata": {
    "slideshow": {
     "slide_type": "slide"
    }
   },
   "outputs": [],
   "source": [
    "%%cython -a\n",
    "from libc.math cimport abs  # Can import any libc functions you need here\n",
    "cimport cython\n",
    "\n",
    "@cython.boundscheck(False)  # Deactivate bounds checking\n",
    "@cython.wraparound(False)   # Deactivate negative indexing.\n",
    "@cython.cdivision(True)     # Deactivate normal python division checking\n",
    "cpdef double norm_pyx(double [:, :] a, int p):\n",
    "    cdef double s = 0\n",
    "    cdef Py_ssize_t x_max = a.shape[0]\n",
    "    cdef Py_ssize_t y_max = a.shape[1]\n",
    "    for i in range(x_max):\n",
    "        for j in range(y_max):\n",
    "            s += abs(a[i, j])**p\n",
    "    return s**(1.0/p)\n"
   ]
  },
  {
   "cell_type": "code",
   "execution_count": null,
   "metadata": {
    "slideshow": {
     "slide_type": "slide"
    }
   },
   "outputs": [],
   "source": [
    "%timeit norm_py(a, p)"
   ]
  },
  {
   "cell_type": "code",
   "execution_count": null,
   "metadata": {
    "slideshow": {
     "slide_type": "-"
    }
   },
   "outputs": [],
   "source": [
    "%timeit norm_pyx(a, p)"
   ]
  },
  {
   "cell_type": "markdown",
   "metadata": {
    "slideshow": {
     "slide_type": "slide"
    }
   },
   "source": [
    "# Extension types\n",
    "\n",
    "- Cython can compile normal python classes\n",
    "- It can also define *extension types*, aka cdef classes, which are more efficient\n",
    "- Take for example this pure python clas that implements a simple ODE model"
   ]
  },
  {
   "cell_type": "code",
   "execution_count": null,
   "metadata": {
    "slideshow": {
     "slide_type": "-"
    }
   },
   "outputs": [],
   "source": [
    "class Model:\n",
    "    def __init__(self, dt):\n",
    "        self._dt = dt\n",
    "        self._y0 = 1.0\n",
    "        \n",
    "    def dydx(self, p, y):\n",
    "        return -y\n",
    "\n",
    "    def evaluate(self, p, time):\n",
    "        timesteps = int(time / self._dt)\n",
    "        y = self._y0\n",
    "        for i in range(timesteps):\n",
    "            y += self._dt * self.dydx(p, y)\n",
    "        return y"
   ]
  },
  {
   "cell_type": "markdown",
   "metadata": {
    "slideshow": {
     "slide_type": "slide"
    }
   },
   "source": [
    "- This is the equivilent cdef class"
   ]
  },
  {
   "cell_type": "code",
   "execution_count": null,
   "metadata": {},
   "outputs": [],
   "source": [
    "%%cython -a\n",
    "cdef class Model_pyx:                  # add cdef to convert to extension type\n",
    "    cdef double _dt                    # define C class variables as attributes using the cdef syntax\n",
    "    cdef public double _y0             # use public keyword to enable access from python\n",
    "    \n",
    "    def __cinit__(self, double dt):    # __cinit__ equivilent to C++ constructors (__init__ might not be called)\n",
    "        self._dt = dt \n",
    "        self._y0 = 1.0\n",
    "        \n",
    "    cdef double dydx(self, double p, double y): # cdef functions cannot be called from python\n",
    "        return -p*y\n",
    "\n",
    "    cpdef double evaluate(self, double p, double time): # cpdef functions *can* be called from python\n",
    "        cdef int timesteps = int(time / self._dt)\n",
    "        cdef double y = self._y0\n",
    "        cdef double tmp\n",
    "        for i in range(timesteps):\n",
    "            tmp = self.dydx(p, y)\n",
    "            y += self._dt * tmp\n",
    "        return y"
   ]
  },
  {
   "cell_type": "code",
   "execution_count": null,
   "metadata": {},
   "outputs": [],
   "source": [
    "%timeit Model_pyx(1e-4).evaluate(1.0, 1.0)"
   ]
  },
  {
   "cell_type": "code",
   "execution_count": null,
   "metadata": {},
   "outputs": [],
   "source": [
    "%timeit Model(1e-4).evaluate(1.0, 1.0)"
   ]
  },
  {
   "cell_type": "markdown",
   "metadata": {
    "slideshow": {
     "slide_type": "slide"
    }
   },
   "source": [
    "# Packaging Cython programs\n",
    "\n",
    "- The `setup.py` in the provided code is used when you `pip install` the package\n",
    "- This is where you use Cython to compile any pyx files, e.g.\n",
    "\n",
    "```python\n",
    "from setuptools import setup, find_packages\n",
    "from Cython.Build import cythonize\n",
    "\n",
    "setup(\n",
    "    name = 'test'\n",
    "    # ...\n",
    "    packages = find_packages(include=('test'))\n",
    "    ext_modules = cythonize('test/my_cython_code.pyx')\n",
    "    # ...\n",
    ")\n",
    "```\n",
    "\n",
    "- note that `cythonize` is the function equivilent to the command-line `cython`"
   ]
  }
 ],
 "metadata": {
  "language_info": {
   "name": "python",
   "pygments_lexer": "ipython3"
  }
 },
 "nbformat": 4,
 "nbformat_minor": 2
}
