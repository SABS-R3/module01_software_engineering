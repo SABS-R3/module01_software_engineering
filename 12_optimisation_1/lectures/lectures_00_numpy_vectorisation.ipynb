{
 "cells": [
  {
   "cell_type": "markdown",
   "metadata": {
    "slideshow": {
     "slide_type": "slide"
    }
   },
   "source": [
    "# Optimisation - speeding up your code\n",
    "## Martin Robinson\n",
    "## Nov 2019"
   ]
  },
  {
   "cell_type": "markdown",
   "metadata": {
    "slideshow": {
     "slide_type": "slide"
    }
   },
   "source": [
    "# Optimisation\n",
    "\n",
    "- The Zen of Python (PEP 20):\n",
    "  - Beautiful is better than ugly.\n",
    "  - Explicit is better than implicit.\n",
    "  - Simple is better than complex.\n",
    "  - Complex is better than complicated.\n",
    "\n",
    "- Python's design philisophy emphasises code readability and simplicity over performance\n",
    "\n",
    "- Often in scientific computing we wish to improve the performance of our code"
   ]
  },
  {
   "cell_type": "markdown",
   "metadata": {
    "slideshow": {
     "slide_type": "slide"
    }
   },
   "source": [
    "# What to optimise - profiling\n",
    "\n",
    "\n",
    "    \"We should forget about small efficiencies, say about 97% of the time: premature \n",
    "    optimization is the root of all evil. Yet we should not pass up our opportunities in \n",
    "    that critical 3%\" - Donald Knuth (1974)\n",
    "\n",
    "- Design and implement your code first! Then you can measure where the program spends \n",
    "  most of its time (i.e. \"that critical 3%\") and optimise them accordingly."
   ]
  },
  {
   "cell_type": "markdown",
   "metadata": {
    "slideshow": {
     "slide_type": "slide"
    }
   },
   "source": [
    "# The cProfile module\n",
    "\n",
    "- part of the standard library \n",
    "  - <https://docs.python.org/3.2/library/profile.html>\n",
    "- Implements *Deterministic Profiling*. Monitors the entry and exit from each function. \n",
    "  Gathers statistics on, e.g., number of times called and time spent in every function \n",
    "  called"
   ]
  },
  {
   "cell_type": "code",
   "execution_count": null,
   "metadata": {
    "slideshow": {
     "slide_type": "slide"
    }
   },
   "outputs": [],
   "source": [
    "import time\n",
    "import cProfile\n",
    "\n",
    "def slow_function():\n",
    "  time.sleep(1)\n",
    "\n",
    "def fast_function():\n",
    "  time.sleep(0.1)\n",
    "\n",
    "def profiled_program():\n",
    "  slow_function()\n",
    "  fast_function()\n",
    "\n",
    "cProfile.run('profiled_program()', sort='cumulative')"
   ]
  },
  {
   "cell_type": "code",
   "execution_count": null,
   "metadata": {
    "slideshow": {
     "slide_type": "slide"
    }
   },
   "outputs": [],
   "source": [
    "%%prun -s cumulative\n",
    "profiled_program()"
   ]
  },
  {
   "cell_type": "markdown",
   "metadata": {
    "slideshow": {
     "slide_type": "slide"
    }
   },
   "source": [
    "# The timeit module\n",
    "\n",
    "- Deterministic profiling adds overhead to the code being profiled, not useful for \n",
    "  benchmarking\n",
    "- Use a timer instead. Python has the `timeit` module\n",
    "  - <https://docs.python.org/3.6/library/timeit.html>\n",
    "- `timeit` uses the `time.perf_counter` timer internally\n",
    "  - <https://docs.python.org/3.6/library/time.html#time.perf_counter>"
   ]
  },
  {
   "cell_type": "code",
   "execution_count": null,
   "metadata": {
    "slideshow": {
     "slide_type": "slide"
    }
   },
   "outputs": [],
   "source": [
    "import timeit\n",
    "\n",
    "def slow_function():\n",
    "  return sum([i for i in range(1000)])\n",
    "\n",
    "def fast_function():\n",
    "  return sum([i for i in range(100)])\n"
   ]
  },
  {
   "cell_type": "code",
   "execution_count": null,
   "metadata": {
    "slideshow": {
     "slide_type": "slide"
    }
   },
   "outputs": [],
   "source": [
    "timeit.Timer('fast_function()', setup=\"from __main__ import fast_function\").repeat(repeat=3, number=10)"
   ]
  },
  {
   "cell_type": "code",
   "execution_count": null,
   "metadata": {
    "slideshow": {
     "slide_type": "slide"
    }
   },
   "outputs": [],
   "source": [
    "timeit.Timer('slow_function()', setup=\"from __main__ import slow_function\").repeat(repeat=3, number=10)"
   ]
  },
  {
   "cell_type": "code",
   "execution_count": null,
   "metadata": {
    "slideshow": {
     "slide_type": "slide"
    }
   },
   "outputs": [],
   "source": [
    "import time\n",
    "start_time = time.perf_counter()\n",
    "fast_function()\n",
    "end_time = time.perf_counter()\n",
    "print('fast function took {} seconds'.format(end_time-start_time))"
   ]
  },
  {
   "cell_type": "code",
   "execution_count": null,
   "metadata": {
    "slideshow": {
     "slide_type": "slide"
    }
   },
   "outputs": [],
   "source": [
    "%%writefile tmp.py\n",
    "def fast_function():\n",
    "  return sum([i for i in range(100)])\n",
    "fast_function()"
   ]
  },
  {
   "cell_type": "code",
   "execution_count": null,
   "metadata": {
    "slideshow": {
     "slide_type": "-"
    }
   },
   "outputs": [],
   "source": [
    "%%bash\n",
    "python -m timeit 'from tmp import fast_function; fast_function()'"
   ]
  },
  {
   "cell_type": "code",
   "execution_count": null,
   "metadata": {
    "slideshow": {
     "slide_type": "-"
    }
   },
   "outputs": [],
   "source": [
    "%%timeit\n",
    "fast_function()"
   ]
  },
  {
   "cell_type": "markdown",
   "metadata": {
    "slideshow": {
     "slide_type": "slide"
    }
   },
   "source": [
    "# Methods for optimising Python code \n",
    "\n",
    "1. Rewrite using data structures / algorithms\n",
    "  - most of the (time-consuming) code you write has already been implemented as commonly \n",
    "    used data structures and algorithms, take the time to know these and how to use \n",
    "    them.\n",
    "1. Use a high-performance library\n",
    "  - Many (most?) python libraries are written in a faster compiled language (e.g. \n",
    "    C/C++/fortran), offering significant speed-up\n",
    "  - For scientific programming, [`numpy`](https://numpy.org/) and \n",
    "    [`scipy`](https://www.scipy.org/) offer many possibilities\n",
    "    "
   ]
  },
  {
   "cell_type": "markdown",
   "metadata": {
    "slideshow": {
     "slide_type": "slide"
    }
   },
   "source": [
    "3. \"Compile\" Python code to a low-level language (usually C/C++).\n",
    "  - [`cython`](https://cython.org/): add static type declarations to your code and \n",
    "    compile to C or C++\n",
    "  - [`numba`](https://numba.pydata.org/): automatically compiles python code directly to \n",
    "    machine code.\n",
    "  - [`theano`](http://deeplearning.net/software/theano/): compiles mathematical \n",
    "    expressions involving numpy-like arrays to C. Largely replaced now by \n",
    "    [`tensorflow`](https://www.tensorflow.org/) and [`pytorch`](https://pytorch.org/).\n",
    "1. Write your code in a low-level language and call it from Python\n",
    "  - Many \"wrapper\" libraries exist, such as [`boost \n",
    "    python`](https://www.boost.org/doc/libs/1_70_0/libs/python/doc/html/index.html) or \n",
    "    [`pybind11`](https://github.com/pybind/pybind11) for C++, or \n",
    "    [`swig`](http://www.swig.org) for C/C++, and \n",
    "    [`f2py`](https://docs.scipy.org/doc/numpy/f2py/) for fortran"
   ]
  },
  {
   "cell_type": "markdown",
   "metadata": {
    "slideshow": {
     "slide_type": "slide"
    }
   },
   "source": [
    "5. Parallise your Python code\n",
    "  - Python is difficult to run in parallel due to the Global Interpreter Lock (GIL). \n",
    "    Within a single process different python threads are restricted to run in serial.\n",
    "  - However, it is possible to run many communicating python processes using the \n",
    "    `multiprocessing` module"
   ]
  },
  {
   "cell_type": "markdown",
   "metadata": {
    "slideshow": {
     "slide_type": "slide"
    }
   },
   "source": [
    "# Numpy vectorisation\n",
    "\n",
    "- each numpy operation is written in optimised C, and compiled to machine code. \n",
    "- speed up your python loops by converting them to numpy operations where possible\n",
    "- this process is known as *vectorisation*, also a big issue in Matlab"
   ]
  },
  {
   "cell_type": "code",
   "execution_count": null,
   "metadata": {
    "slideshow": {
     "slide_type": "slide"
    }
   },
   "outputs": [],
   "source": [
    "import numpy as np\n",
    "\n",
    "def python_sum(array):\n",
    "  s = 0\n",
    "  for i in range(len(array)):\n",
    "    s += array[i]\n",
    "  return s\n",
    "\n",
    "def numpy_sum(array):\n",
    "  return np.sum(array)"
   ]
  },
  {
   "cell_type": "code",
   "execution_count": null,
   "metadata": {
    "slideshow": {
     "slide_type": "-"
    }
   },
   "outputs": [],
   "source": [
    "n = 1000\n",
    "%timeit python_sum(np.ones(n))"
   ]
  },
  {
   "cell_type": "code",
   "execution_count": null,
   "metadata": {
    "slideshow": {
     "slide_type": "-"
    }
   },
   "outputs": [],
   "source": [
    "%timeit numpy_sum(np.ones(n))"
   ]
  },
  {
   "cell_type": "markdown",
   "metadata": {
    "slideshow": {
     "slide_type": "slide"
    }
   },
   "source": [
    "# examples - array creation\n",
    "\n",
    "- numpy has many functions for generating arrays\n",
    "    - `np.empty`, `np.full`, `np.zeros`, `np.ones`, `np.eye`, `np.linspace`, `np.random.random`"
   ]
  },
  {
   "cell_type": "code",
   "execution_count": null,
   "metadata": {
    "slideshow": {
     "slide_type": "-"
    }
   },
   "outputs": [],
   "source": [
    "def python_create():\n",
    "  return [i**2 for i in range(n)]\n",
    "\n",
    "def numpy_create():\n",
    "  return np.arange(0,n,1)**2"
   ]
  },
  {
   "cell_type": "code",
   "execution_count": null,
   "metadata": {
    "slideshow": {
     "slide_type": "-"
    }
   },
   "outputs": [],
   "source": [
    "%timeit python_create()"
   ]
  },
  {
   "cell_type": "code",
   "execution_count": null,
   "metadata": {
    "slideshow": {
     "slide_type": "-"
    }
   },
   "outputs": [],
   "source": [
    "%timeit numpy_create()"
   ]
  },
  {
   "cell_type": "markdown",
   "metadata": {
    "slideshow": {
     "slide_type": "slide"
    }
   },
   "source": [
    "# examples - single loops\n",
    "\n",
    "- replace single loops over arrays into the equivilent number operations\n",
    "- example: $v_i + a \\exp(-v_i)$"
   ]
  },
  {
   "cell_type": "code",
   "execution_count": null,
   "metadata": {
    "slideshow": {
     "slide_type": "-"
    }
   },
   "outputs": [],
   "source": [
    "import math\n",
    "a = 1.5\n",
    "def python_expr(array):\n",
    "  for i in range(len(array)):\n",
    "    array[i] += a * math.exp(-array[i])\n",
    "\n",
    "def numpy_expr(array):\n",
    "  print('what goes here?')"
   ]
  },
  {
   "cell_type": "code",
   "execution_count": null,
   "metadata": {
    "slideshow": {
     "slide_type": "skip"
    }
   },
   "outputs": [],
   "source": [
    "def numpy_expr(array):\n",
    "  array + a * np.exp(-array)"
   ]
  },
  {
   "cell_type": "code",
   "execution_count": null,
   "metadata": {
    "slideshow": {
     "slide_type": "-"
    }
   },
   "outputs": [],
   "source": [
    "data = 1e-4*np.ones(1000)\n",
    "%timeit python_expr(data)"
   ]
  },
  {
   "cell_type": "code",
   "execution_count": null,
   "metadata": {
    "slideshow": {
     "slide_type": "-"
    }
   },
   "outputs": [],
   "source": [
    "data = 1e-4*np.ones(1000)\n",
    "%timeit numpy_expr(data)"
   ]
  },
  {
   "cell_type": "markdown",
   "metadata": {
    "slideshow": {
     "slide_type": "slide"
    }
   },
   "source": [
    "# examples - broadcasting\n",
    "\n",
    "- Using the numpy broadcasting rules can help when vectorising"
   ]
  },
  {
   "cell_type": "code",
   "execution_count": null,
   "metadata": {
    "slideshow": {
     "slide_type": "-"
    }
   },
   "outputs": [],
   "source": [
    "a = [1.5, 2.5]\n",
    "\n",
    "def python_2d_expr(array):\n",
    "  for i in range(array.shape[0]):\n",
    "    for j in range(array.shape[1]):\n",
    "      array[i, j] += a[j] * math.exp(-array[i, j])\n",
    "\n",
    "np_a = np.array(a)\n",
    "\n",
    "def numpy_2d_expr(array):\n",
    "  print('what goes here?')"
   ]
  },
  {
   "cell_type": "code",
   "execution_count": null,
   "metadata": {
    "slideshow": {
     "slide_type": "skip"
    }
   },
   "outputs": [],
   "source": [
    "def numpy_2d_expr(array):\n",
    "  array + np_a * np.exp(-array)"
   ]
  },
  {
   "cell_type": "code",
   "execution_count": null,
   "metadata": {
    "slideshow": {
     "slide_type": "-"
    }
   },
   "outputs": [],
   "source": [
    "data = 1e-4*np.ones((1000,2))\n",
    "%timeit python_2d_expr(data)"
   ]
  },
  {
   "cell_type": "code",
   "execution_count": null,
   "metadata": {
    "slideshow": {
     "slide_type": "-"
    }
   },
   "outputs": [],
   "source": [
    "data = 1e-4*np.ones((1000,2))\n",
    "%timeit numpy_2d_expr(data)"
   ]
  },
  {
   "cell_type": "markdown",
   "metadata": {
    "slideshow": {
     "slide_type": "slide"
    }
   },
   "source": [
    "# examples - more broadcasting - double loops\n",
    "\n",
    "- Even double loops can be vectorised with appropriate broadcasting"
   ]
  },
  {
   "cell_type": "code",
   "execution_count": null,
   "metadata": {
    "slideshow": {
     "slide_type": "-"
    }
   },
   "outputs": [],
   "source": [
    "n = 100\n",
    "a = np.abs(np.random.randn(n))\n",
    "b = np.abs(np.random.randn(n))\n",
    "\n",
    "def python_dbl_loop(array):\n",
    "  for i in range(array.shape[0]):\n",
    "    for j in range(array.shape[1]):\n",
    "      array[i, j] += math.exp(- (a[i] + b[j])) \n",
    "      \n",
    "np_a = np.array(a)\n",
    "np_b = np.array(b)\n",
    "\n",
    "def numpy_dbl_loop(array):\n",
    "  print('what goes here?')"
   ]
  },
  {
   "cell_type": "code",
   "execution_count": null,
   "metadata": {
    "slideshow": {
     "slide_type": "skip"
    }
   },
   "outputs": [],
   "source": [
    "def numpy_dbl_loop(array):\n",
    "  array + np.exp(a + np.transpose(b))"
   ]
  },
  {
   "cell_type": "code",
   "execution_count": null,
   "metadata": {
    "slideshow": {
     "slide_type": "slide"
    }
   },
   "outputs": [],
   "source": [
    "data = 1e-4*np.ones((n,n))\n",
    "%timeit python_dbl_loop(data)"
   ]
  },
  {
   "cell_type": "code",
   "execution_count": null,
   "metadata": {
    "slideshow": {
     "slide_type": "-"
    }
   },
   "outputs": [],
   "source": [
    "data = 1e-4*np.ones((n,n))\n",
    "%timeit numpy_dbl_loop(data)"
   ]
  },
  {
   "cell_type": "markdown",
   "metadata": {
    "slideshow": {
     "slide_type": "slide"
    }
   },
   "source": [
    "# The practical - speeding up a cell model\n",
    "\n",
    "The practical exercises over the next 2 days revolve around speeding up a Python \n",
    "implementation of a individual-based model of diffusing and interacting cells.\n",
    "\n",
    "The model consists of a set of $N$ cells in a periodic unit square domain. Let\n",
    "$\\mathbf{X}_i(t)$ denote the position of the $i$th particle in $\\Omega \\subset \\mathbb R^2$.\n",
    "For each particle $i$, the motion through space is described by a stochastic\n",
    "differential equation (SDE).\n",
    "\n",
    "\n",
    "$$\n",
    "\\mathrm{d}\\mathbf{X}_i(t) = \\sqrt{2 D_\\alpha} \\mathrm{d}\\mathbf{W}_i(t) - \\sum_{j\\ne i} \\nabla_i u(\\| \\mathbf{X}_i(t) - \\mathbf{X}_j(t) \\|) \\mathrm{d}t,\n",
    "$$\n",
    "\n",
    "where $D=1$ is the diffusion coefficient of the cells, and $\\nabla_i$ denotes the\n",
    "gradient with respect to $\\mathbf{X}_i$. The interaction potential $u$ may be a soft potential\n",
    "incorporating effects such as size exclusion by cells and cell-cell adhesion. In this\n",
    "case we use the soft exponential potential."
   ]
  },
  {
   "cell_type": "markdown",
   "metadata": {
    "slideshow": {
     "slide_type": "slide"
    }
   },
   "source": [
    "The simple method to numerically integrate the SDE is to use a fixed time-step $\\Delta \n",
    "t$ and a Euler--Maruyama discretisation, resulting in the time-stepping scheme:\n",
    "\n",
    "$$ \n",
    "\\mathbf{X}_i(t+ \\Delta t) = \\mathbf{X}_i(t) + \\sqrt{2D_\\alpha \\Delta t} \\xi_i - \\sum_{j\\ne i} \\nabla_i u(\\| \\mathbf{X}_i(t) - \\mathbf{X}_j(t) \\|) \\Delta t, \n",
    "$$\n",
    "\n",
    "where $\\xi_i$ is a two-dimensional normally distributed random variable with zero mean\n",
    "and unit variance."
   ]
  },
  {
   "cell_type": "markdown",
   "metadata": {
    "slideshow": {
     "slide_type": "slide"
    }
   },
   "source": [
    "# Implementation\n",
    "\n",
    "[walk through code here]"
   ]
  }
 ],
 "metadata": {
  "language_info": {
   "name": "python",
   "pygments_lexer": "ipython3"
  }
 },
 "nbformat": 4,
 "nbformat_minor": 2
}
